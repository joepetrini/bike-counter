{
 "metadata": {
  "name": "",
  "signature": "sha256:9ab8733bafd900e47ca052dd999a3051bd4f2be43b5fa847a66aeec9905ec718"
 },
 "nbformat": 3,
 "nbformat_minor": 0,
 "worksheets": [
  {
   "cells": [
    {
     "cell_type": "code",
     "collapsed": false,
     "input": [
      "appt = Appointment.objects.all()[0]\n",
      "metrics = OrganizationMetrics.objects.filter(organization=appt.organization).values_list('metric__system_name', flat=True)\n",
      "'helmet' in metrics"
     ],
     "language": "python",
     "metadata": {},
     "outputs": [
      {
       "metadata": {},
       "output_type": "pyout",
       "prompt_number": 15,
       "text": [
        "True"
       ]
      }
     ],
     "prompt_number": 15
    },
    {
     "cell_type": "code",
     "collapsed": false,
     "input": [],
     "language": "python",
     "metadata": {},
     "outputs": []
    }
   ],
   "metadata": {}
  }
 ]
}